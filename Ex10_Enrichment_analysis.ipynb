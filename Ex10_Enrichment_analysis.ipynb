{
  "nbformat": 4,
  "nbformat_minor": 0,
  "metadata": {
    "colab": {
      "provenance": [],
      "authorship_tag": "ABX9TyPzhqveOZf38nAkd/cFxCaD",
      "include_colab_link": true
    },
    "kernelspec": {
      "name": "python3",
      "display_name": "Python 3"
    },
    "language_info": {
      "name": "python"
    }
  },
  "cells": [
    {
      "cell_type": "markdown",
      "metadata": {
        "id": "view-in-github",
        "colab_type": "text"
      },
      "source": [
        "<a href=\"https://colab.research.google.com/github/evocellnet/sysbio_teaching/blob/main/Ex10_Enrichment_analysis.ipynb\" target=\"_parent\"><img src=\"https://colab.research.google.com/assets/colab-badge.svg\" alt=\"Open In Colab\"/></a>"
      ]
    },
    {
      "cell_type": "markdown",
      "source": [
        "## Enrichment Analysis\n",
        "\n",
        "The goal of this exercise is to perform **Enrichment analysis** of protein abundance changes between **Luminal A and Luminal B** to identify pathways or biological processes activated in one condition compared to the other"
      ],
      "metadata": {
        "id": "yufXYeiyxc-T"
      }
    },
    {
      "cell_type": "code",
      "source": [
        "#@title Getting started { display-mode: \"form\" }\n",
        "#@markdown Set up the environment, and download the raw data from ([Krug et al., 2020](https://doi.org/10.1016/j.cell.2020.10.036)) used throughout the praktikum:\n",
        "#@markdown - Remove Colab `/content/sample_data/` directory to avoid confusion\n",
        "!rm -rf sample_data\n",
        "\n",
        "#@markdown - Upgrade scikit-learn, as the default Colab version does not have `DecisionBoundaryDisplay`\n",
        "!pip install -U scikit-learn\n",
        "\n",
        "#@markdown - Install the Goatools package to perform Enrichment analysis\n",
        "!pip install goatools\n",
        "\n",
        "#@markdown - Download an .obo file of the most current GO\n",
        "! wget http://current.geneontology.org/ontology/go-basic.obo\n",
        "\n",
        "#@markdown - Download ([Krug et al., 2020](https://doi.org/10.1016/j.cell.2020.10.036)) supplementary materials & store them under `/content/` as `Krug2020_S1.xlsx` etc\n",
        "!wget -nv -O Krug2020_S1.xlsx https://ars.els-cdn.com/content/image/1-s2.0-S0092867420314008-mmc1.xlsx\n",
        "!wget -nv -O Krug2020_S2.xlsx https://ars.els-cdn.com/content/image/1-s2.0-S0092867420314008-mmc2.xlsx\n",
        "!wget -nv -O Krug2020_S3.xlsx https://ars.els-cdn.com/content/image/1-s2.0-S0092867420314008-mmc3.xlsx\n",
        "\n",
        "#@markdown - Import modules from numpy, pandas, seaborn, sklearn\n",
        "import numpy as np, pandas as pd, seaborn as sns\n",
        "import matplotlib.pyplot as plt\n",
        "import sklearn.inspection, sklearn.metrics, sklearn.neighbors, sklearn.svm, sklearn.pipeline, sklearn.preprocessing\n",
        "\n",
        "#@markdown - Fix `RANDOM_SEED` for (partial) reproducibility\n",
        "RANDOM_SEED = 4 # https://xkcd.com/221\n",
        "\n",
        "#@markdown - Clone the \"sysbio_teaching\" GitHub repository into your Colab environment\n",
        "!git clone https://github.com/evocellnet/sysbio_teaching.git\n",
        "\n",
        "def plot_question_mark(ax):\n",
        "  ax.text(x=.5, y=.5, s='?', color='red', fontsize=64,\n",
        "          horizontalalignment='center',\n",
        "          verticalalignment='center',\n",
        "          transform=ax.transAxes)"
      ],
      "metadata": {
        "colab": {
          "base_uri": "https://localhost:8080/"
        },
        "id": "AT6rxVfO2RCP",
        "outputId": "52f29837-a07e-46f4-f258-634c3a468796"
      },
      "execution_count": 1,
      "outputs": [
        {
          "output_type": "stream",
          "name": "stdout",
          "text": [
            "Looking in indexes: https://pypi.org/simple, https://us-python.pkg.dev/colab-wheels/public/simple/\n",
            "Requirement already satisfied: scikit-learn in /usr/local/lib/python3.9/dist-packages (1.2.2)\n",
            "Requirement already satisfied: joblib>=1.1.1 in /usr/local/lib/python3.9/dist-packages (from scikit-learn) (1.2.0)\n",
            "Requirement already satisfied: threadpoolctl>=2.0.0 in /usr/local/lib/python3.9/dist-packages (from scikit-learn) (3.1.0)\n",
            "Requirement already satisfied: scipy>=1.3.2 in /usr/local/lib/python3.9/dist-packages (from scikit-learn) (1.10.1)\n",
            "Requirement already satisfied: numpy>=1.17.3 in /usr/local/lib/python3.9/dist-packages (from scikit-learn) (1.22.4)\n",
            "Looking in indexes: https://pypi.org/simple, https://us-python.pkg.dev/colab-wheels/public/simple/\n",
            "Collecting goatools\n",
            "  Downloading goatools-1.3.1-py3-none-any.whl (15.8 MB)\n",
            "\u001b[2K     \u001b[90m━━━━━━━━━━━━━━━━━━━━━━━━━━━━━━━━━━━━━━━━\u001b[0m \u001b[32m15.8/15.8 MB\u001b[0m \u001b[31m26.1 MB/s\u001b[0m eta \u001b[36m0:00:00\u001b[0m\n",
            "\u001b[?25hCollecting docopt\n",
            "  Downloading docopt-0.6.2.tar.gz (25 kB)\n",
            "  Preparing metadata (setup.py) ... \u001b[?25l\u001b[?25hdone\n",
            "Requirement already satisfied: scipy in /usr/local/lib/python3.9/dist-packages (from goatools) (1.10.1)\n",
            "Requirement already satisfied: statsmodels in /usr/local/lib/python3.9/dist-packages (from goatools) (0.13.5)\n",
            "Requirement already satisfied: requests in /usr/local/lib/python3.9/dist-packages (from goatools) (2.27.1)\n",
            "Requirement already satisfied: pandas in /usr/local/lib/python3.9/dist-packages (from goatools) (1.5.3)\n",
            "Requirement already satisfied: pydot in /usr/local/lib/python3.9/dist-packages (from goatools) (1.4.2)\n",
            "Collecting xlsxwriter\n",
            "  Downloading XlsxWriter-3.1.0-py3-none-any.whl (152 kB)\n",
            "\u001b[2K     \u001b[90m━━━━━━━━━━━━━━━━━━━━━━━━━━━━━━━━━━━━━━━\u001b[0m \u001b[32m152.7/152.7 kB\u001b[0m \u001b[31m1.7 MB/s\u001b[0m eta \u001b[36m0:00:00\u001b[0m\n",
            "\u001b[?25hRequirement already satisfied: openpyxl in /usr/local/lib/python3.9/dist-packages (from goatools) (3.0.10)\n",
            "Requirement already satisfied: numpy in /usr/local/lib/python3.9/dist-packages (from goatools) (1.22.4)\n",
            "Requirement already satisfied: et-xmlfile in /usr/local/lib/python3.9/dist-packages (from openpyxl->goatools) (1.1.0)\n",
            "Requirement already satisfied: python-dateutil>=2.8.1 in /usr/local/lib/python3.9/dist-packages (from pandas->goatools) (2.8.2)\n",
            "Requirement already satisfied: pytz>=2020.1 in /usr/local/lib/python3.9/dist-packages (from pandas->goatools) (2022.7.1)\n",
            "Requirement already satisfied: pyparsing>=2.1.4 in /usr/local/lib/python3.9/dist-packages (from pydot->goatools) (3.0.9)\n",
            "Requirement already satisfied: idna<4,>=2.5 in /usr/local/lib/python3.9/dist-packages (from requests->goatools) (3.4)\n",
            "Requirement already satisfied: charset-normalizer~=2.0.0 in /usr/local/lib/python3.9/dist-packages (from requests->goatools) (2.0.12)\n",
            "Requirement already satisfied: certifi>=2017.4.17 in /usr/local/lib/python3.9/dist-packages (from requests->goatools) (2022.12.7)\n",
            "Requirement already satisfied: urllib3<1.27,>=1.21.1 in /usr/local/lib/python3.9/dist-packages (from requests->goatools) (1.26.15)\n",
            "Requirement already satisfied: packaging>=21.3 in /usr/local/lib/python3.9/dist-packages (from statsmodels->goatools) (23.1)\n",
            "Requirement already satisfied: patsy>=0.5.2 in /usr/local/lib/python3.9/dist-packages (from statsmodels->goatools) (0.5.3)\n",
            "Requirement already satisfied: six in /usr/local/lib/python3.9/dist-packages (from patsy>=0.5.2->statsmodels->goatools) (1.16.0)\n",
            "Building wheels for collected packages: docopt\n",
            "  Building wheel for docopt (setup.py) ... \u001b[?25l\u001b[?25hdone\n",
            "  Created wheel for docopt: filename=docopt-0.6.2-py2.py3-none-any.whl size=13721 sha256=6944cc5bcc2a8e192d4442374a58fa63a0e4c073ecbe82a56c5f0b9072b9523f\n",
            "  Stored in directory: /root/.cache/pip/wheels/70/4a/46/1309fc853b8d395e60bafaf1b6df7845bdd82c95fd59dd8d2b\n",
            "Successfully built docopt\n",
            "Installing collected packages: docopt, xlsxwriter, goatools\n",
            "Successfully installed docopt-0.6.2 goatools-1.3.1 xlsxwriter-3.1.0\n",
            "--2023-04-27 07:34:28--  http://current.geneontology.org/ontology/go-basic.obo\n",
            "Resolving current.geneontology.org (current.geneontology.org)... 108.156.60.72, 108.156.60.115, 108.156.60.25, ...\n",
            "Connecting to current.geneontology.org (current.geneontology.org)|108.156.60.72|:80... connected.\n",
            "HTTP request sent, awaiting response... 200 OK\n",
            "Length: 31029423 (30M) [text/obo]\n",
            "Saving to: ‘go-basic.obo’\n",
            "\n",
            "go-basic.obo        100%[===================>]  29.59M   101MB/s    in 0.3s    \n",
            "\n",
            "2023-04-27 07:34:28 (101 MB/s) - ‘go-basic.obo’ saved [31029423/31029423]\n",
            "\n",
            "2023-04-27 07:34:29 URL:https://ars.els-cdn.com/content/image/1-s2.0-S0092867420314008-mmc1.xlsx [2491045/2491045] -> \"Krug2020_S1.xlsx\" [1]\n",
            "2023-04-27 07:34:31 URL:https://ars.els-cdn.com/content/image/1-s2.0-S0092867420314008-mmc2.xlsx [89152124/89152124] -> \"Krug2020_S2.xlsx\" [1]\n",
            "2023-04-27 07:34:32 URL:https://ars.els-cdn.com/content/image/1-s2.0-S0092867420314008-mmc3.xlsx [4573671/4573671] -> \"Krug2020_S3.xlsx\" [1]\n",
            "Cloning into 'sysbio_teaching'...\n",
            "remote: Enumerating objects: 102, done.\u001b[K\n",
            "remote: Total 102 (delta 0), reused 0 (delta 0), pack-reused 102\u001b[K\n",
            "Receiving objects: 100% (102/102), 18.59 MiB | 18.00 MiB/s, done.\n",
            "Resolving deltas: 100% (52/52), done.\n"
          ]
        }
      ]
    },
    {
      "cell_type": "markdown",
      "metadata": {
        "id": "59fec609"
      },
      "source": [
        "## Import the required libraries "
      ]
    },
    {
      "cell_type": "code",
      "source": [
        "import pandas as pd\n",
        "import numpy as np\n",
        "import matplotlib.pyplot as plt\n",
        "import seaborn as sns\n",
        "\n",
        "pd.set_option('display.max_columns', None)\n",
        "pd.set_option('display.max_colwidth', None)"
      ],
      "metadata": {
        "id": "Ewih8opPydW3"
      },
      "execution_count": 2,
      "outputs": []
    },
    {
      "cell_type": "markdown",
      "metadata": {
        "id": "UrvF9-0pnVfl"
      },
      "source": [
        "## Load the output file generated from the protein differential analysis between Luminal A and Luminal B samples, which was produced in Exercise 9"
      ]
    },
    {
      "cell_type": "code",
      "source": [
        "df = pd.read_csv('/content/sysbio_teaching/out_annotated.txt', low_memory = False, sep = \"\\t\")\n",
        "df.info()"
      ],
      "metadata": {
        "colab": {
          "base_uri": "https://localhost:8080/"
        },
        "id": "3bV5JhRWzLKX",
        "outputId": "0773f0aa-df68-44a5-df55-24156cacd9f3"
      },
      "execution_count": 168,
      "outputs": [
        {
          "output_type": "stream",
          "name": "stdout",
          "text": [
            "<class 'pandas.core.frame.DataFrame'>\n",
            "RangeIndex: 4727 entries, 0 to 4726\n",
            "Columns: 141 entries, id to Gene_id\n",
            "dtypes: float64(129), int64(3), object(9)\n",
            "memory usage: 5.1+ MB\n"
          ]
        }
      ]
    },
    {
      "cell_type": "code",
      "source": [
        "#@title Load ontologies and associations { display-mode: \"form\" }\n",
        "\n",
        "#@markdown - Download Ontologies\n",
        "from goatools.base import download_go_basic_obo\n",
        "obo_fname = download_go_basic_obo()\n",
        "from goatools.obo_parser import GODag\n",
        "obodag = GODag(\"go-basic.obo\")\n",
        "\n",
        "#@markdown - Download Gene-GO associations\n",
        "from goatools.base import download_ncbi_associations\n",
        "gene2go = download_ncbi_associations()\n",
        "from genes_ncbi_9606_proteincoding import GENEID2NT as GeneID2nt\n",
        "\n",
        "\n",
        "from __future__ import print_function\n",
        "from goatools.anno.genetogo_reader import Gene2GoReader\n",
        "\n",
        "#@markdown - Store Gene-GO associations for the different GO categories (BP, MF, CC)\n",
        "objanno = Gene2GoReader(gene2go, taxids=[9606])\n",
        "\n",
        "# Get namespace2association where:\n",
        "#    namespace is:\n",
        "#        BP: biological_process               \n",
        "#        MF: molecular_function\n",
        "#        CC: cellular_component\n",
        "#    assocation is a dict:\n",
        "#        key: NCBI GeneID\n",
        "#        value: A set of GO IDs associated with that gene\n",
        "ns2assoc = objanno.get_ns2assc()\n",
        "\n",
        "for nspc, id2gos in ns2assoc.items():\n",
        "    print(\"{NS} {N:,} annotated human genes\".format(NS=nspc, N=len(id2gos)))\n"
      ],
      "metadata": {
        "colab": {
          "base_uri": "https://localhost:8080/"
        },
        "outputId": "9701287a-3cd8-48c1-8fd6-515947b451f6",
        "id": "Cd7MAPCVlx4O"
      },
      "execution_count": 158,
      "outputs": [
        {
          "output_type": "stream",
          "name": "stdout",
          "text": [
            "  EXISTS: go-basic.obo\n",
            "go-basic.obo: fmt(1.2) rel(2023-04-01) 46,575 Terms\n",
            "  EXISTS: gene2go\n",
            "HMS:0:00:07.674006 342,553 annotations, 20,749 genes, 18,982 GOs, 1 taxids READ: gene2go \n",
            "MF 18,259 annotated human genes\n",
            "CC 19,755 annotated human genes\n",
            "BP 18,649 annotated human genes\n"
          ]
        }
      ]
    },
    {
      "cell_type": "markdown",
      "metadata": {
        "id": "30176c3a"
      },
      "source": [
        "\n",
        "### Load Background gene set (reference)\n",
        "\n",
        "#### The background is all human proteins "
      ]
    },
    {
      "cell_type": "code",
      "source": [
        "from genes_ncbi_9606_proteincoding import GENEID2NT as GeneID2nt\n",
        "print(len(GeneID2nt))"
      ],
      "metadata": {
        "colab": {
          "base_uri": "https://localhost:8080/"
        },
        "id": "onYdzP1a6ec2",
        "outputId": "8f221e3d-d101-47d7-ec7c-7a260e825019"
      },
      "execution_count": 159,
      "outputs": [
        {
          "output_type": "stream",
          "name": "stdout",
          "text": [
            "19616\n"
          ]
        }
      ]
    },
    {
      "cell_type": "code",
      "source": [
        "## Initialize a GOEA object\n",
        "from goatools.goea.go_enrichment_ns import GOEnrichmentStudyNS\n",
        "\n",
        "goeaobj = GOEnrichmentStudyNS(\n",
        "        GeneID2nt.keys(), # List of human protein-coding genes\n",
        "        ns2assoc, # geneid/GO associations\n",
        "        obodag, # Ontologies\n",
        "        propagate_counts = False,\n",
        "        alpha = 0.05, # default significance cut-off\n",
        "        methods = ['fdr_bh']) # defult multipletest correction method\n",
        "\n",
        "#Important note: by default, find_enrichment.py propagates counts to all the parents of a GO term. \n",
        "#(defined in terms of is_a tags, only)\n",
        "#As a result, users may find terms in the output that are not present in their association file. \n",
        "#propagate_counts = False to disable this behavior."
      ],
      "metadata": {
        "colab": {
          "base_uri": "https://localhost:8080/"
        },
        "id": "FP2yGMlj6egQ",
        "outputId": "b05b3a63-160d-404f-a815-25c01b2a0d5e"
      },
      "execution_count": 160,
      "outputs": [
        {
          "output_type": "stream",
          "name": "stdout",
          "text": [
            "\n",
            "Load BP Ontology Enrichment Analysis ...\n",
            " 87% 16,971 of 19,616 population items found in association\n",
            "\n",
            "Load CC Ontology Enrichment Analysis ...\n",
            " 92% 18,084 of 19,616 population items found in association\n",
            "\n",
            "Load MF Ontology Enrichment Analysis ...\n",
            " 89% 17,556 of 19,616 population items found in association\n"
          ]
        }
      ]
    },
    {
      "cell_type": "markdown",
      "source": [
        "# Select significant genes setting fold change and q-value cutoffs"
      ],
      "metadata": {
        "id": "S3dw926RYJG1"
      }
    },
    {
      "cell_type": "code",
      "source": [
        "fc_cutoff = 1\n",
        "qvalue_cutoff = 0.05\n",
        "\n",
        "df = df[(df.adj_p < qvalue_cutoff) & (abs(df.log2fc) > fc_cutoff)]"
      ],
      "metadata": {
        "id": "Bm8wPUGYQrgA"
      },
      "execution_count": 169,
      "outputs": []
    },
    {
      "cell_type": "code",
      "source": [
        "df = df[df['Gene_id'].notnull()] # Filter rows with non-null values in 'Gene_id' column\n",
        "df['Gene_id'] = df['Gene_id'].astype(int) # Convert the 'Gene_id' column to integers\n",
        "geneid2symbol = dict(zip(df['Gene_id'], df['Uniprot_id']))\n",
        "geneids_study = geneid2symbol.keys()"
      ],
      "metadata": {
        "id": "lCdjg2LD9tN2"
      },
      "execution_count": 172,
      "outputs": []
    },
    {
      "cell_type": "code",
      "source": [
        "len(geneids_study)"
      ],
      "metadata": {
        "colab": {
          "base_uri": "https://localhost:8080/"
        },
        "id": "sq6mvkAn9tX2",
        "outputId": "81f4ecf1-92da-4112-dfed-b6adee862397"
      },
      "execution_count": 173,
      "outputs": [
        {
          "output_type": "execute_result",
          "data": {
            "text/plain": [
              "367"
            ]
          },
          "metadata": {},
          "execution_count": 173
        }
      ]
    },
    {
      "cell_type": "code",
      "source": [
        "# 'p_' means \"pvalue\". 'fdr_bh' is the multipletest method we are currently using.\n",
        "geneids_study = geneid2symbol.keys()\n",
        "goea_results_all = goeaobj.run_study(geneids_study)\n",
        "goea_results_sig = [r for r in goea_results_all if r.p_fdr_bh < 0.05]\n"
      ],
      "metadata": {
        "colab": {
          "base_uri": "https://localhost:8080/"
        },
        "id": "TcyC_NMF-FwH",
        "outputId": "c79d7f3e-8292-4291-efa2-b961bd7bdff9"
      },
      "execution_count": 174,
      "outputs": [
        {
          "output_type": "stream",
          "name": "stdout",
          "text": [
            "\n",
            "Runing BP Ontology Analysis: current study set of 367 IDs.\n",
            " 96%    353 of    367 study items found in association\n",
            "100%    367 of    367 study items found in population(19616)\n",
            "Calculating 12,434 uncorrected p-values using fisher_scipy_stats\n",
            "  12,434 terms are associated with 16,971 of 19,616 population items\n",
            "   1,881 terms are associated with    353 of    367 study items\n",
            "  METHOD fdr_bh:\n",
            "      50 GO terms found significant (< 0.05=alpha) ( 50 enriched +   0 purified): statsmodels fdr_bh\n",
            "     199 study items associated with significant GO IDs (enriched)\n",
            "       0 study items associated with significant GO IDs (purified)\n",
            "\n",
            "Runing CC Ontology Analysis: current study set of 367 IDs.\n",
            " 99%    363 of    367 study items found in association\n",
            "100%    367 of    367 study items found in population(19616)\n",
            "Calculating 1,779 uncorrected p-values using fisher_scipy_stats\n",
            "   1,779 terms are associated with 18,084 of 19,616 population items\n",
            "     397 terms are associated with    363 of    367 study items\n",
            "  METHOD fdr_bh:\n",
            "      54 GO terms found significant (< 0.05=alpha) ( 54 enriched +   0 purified): statsmodels fdr_bh\n",
            "     332 study items associated with significant GO IDs (enriched)\n",
            "       0 study items associated with significant GO IDs (purified)\n",
            "\n",
            "Runing MF Ontology Analysis: current study set of 367 IDs.\n",
            " 97%    356 of    367 study items found in association\n",
            "100%    367 of    367 study items found in population(19616)\n",
            "Calculating 4,605 uncorrected p-values using fisher_scipy_stats\n",
            "   4,605 terms are associated with 17,556 of 19,616 population items\n",
            "     560 terms are associated with    356 of    367 study items\n",
            "  METHOD fdr_bh:\n",
            "      39 GO terms found significant (< 0.05=alpha) ( 33 enriched +   6 purified): statsmodels fdr_bh\n",
            "     326 study items associated with significant GO IDs (enriched)\n",
            "       1 study items associated with significant GO IDs (purified)\n"
          ]
        }
      ]
    },
    {
      "cell_type": "code",
      "source": [
        "from __future__ import print_function\n",
        "go_names = [r.name for r in goea_results_sig]\n",
        "print(len(go_names)) # Includes ONLY signficant results"
      ],
      "metadata": {
        "colab": {
          "base_uri": "https://localhost:8080/"
        },
        "id": "mtqTQDWH_MiN",
        "outputId": "67781ef9-da69-49b4-b5d6-1f8bcabdbe76"
      },
      "execution_count": 175,
      "outputs": [
        {
          "output_type": "stream",
          "name": "stdout",
          "text": [
            "143\n"
          ]
        }
      ]
    },
    {
      "cell_type": "code",
      "source": [
        "# Create a dictionary with the GO term, p-value, and name\n",
        "go_dict = {'Category': [r.NS for r in goea_results_sig],\n",
        "           'GO': [r.GO for r in goea_results_sig],\n",
        "           'p_fdr_bh': [r.p_fdr_bh for r in goea_results_sig],\n",
        "           'study_count': [r.study_count for r in goea_results_sig],\n",
        "           'name': [obodag[r.GO].name for r in goea_results_sig]}\n",
        "\n",
        "# Convert the dictionary to a pandas DataFrame\n",
        "df_goea_results = pd.DataFrame(go_dict)"
      ],
      "metadata": {
        "id": "8lKy7KJZE2Sc"
      },
      "execution_count": 176,
      "outputs": []
    },
    {
      "cell_type": "code",
      "source": [
        "df_goea_results = df_goea_results[(df_goea_results['study_count'] > 5) & (df_goea_results['study_count'] < 500)]"
      ],
      "metadata": {
        "id": "wiYnlgd9GqrG"
      },
      "execution_count": 177,
      "outputs": []
    },
    {
      "cell_type": "code",
      "source": [
        "df_goea_results.head()"
      ],
      "metadata": {
        "colab": {
          "base_uri": "https://localhost:8080/",
          "height": 206
        },
        "id": "jnszpImfF7Uc",
        "outputId": "3eaa287f-99db-49ae-f71e-7e9b7086e8ab"
      },
      "execution_count": 178,
      "outputs": [
        {
          "output_type": "execute_result",
          "data": {
            "text/plain": [
              "  Category          GO      p_fdr_bh  study_count  \\\n",
              "0       BP  GO:0006958  2.319529e-16           16   \n",
              "1       BP  GO:0006956  2.194926e-15           14   \n",
              "2       BP  GO:0006957  4.483126e-13           11   \n",
              "3       BP  GO:0010951  6.736980e-11           15   \n",
              "4       BP  GO:0006953  1.165086e-07           11   \n",
              "\n",
              "                                            name  \n",
              "0       complement activation, classical pathway  \n",
              "1                          complement activation  \n",
              "2     complement activation, alternative pathway  \n",
              "3  negative regulation of endopeptidase activity  \n",
              "4                           acute-phase response  "
            ],
            "text/html": [
              "\n",
              "  <div id=\"df-2bffba80-8ec6-4aca-96d2-937228da2162\">\n",
              "    <div class=\"colab-df-container\">\n",
              "      <div>\n",
              "<style scoped>\n",
              "    .dataframe tbody tr th:only-of-type {\n",
              "        vertical-align: middle;\n",
              "    }\n",
              "\n",
              "    .dataframe tbody tr th {\n",
              "        vertical-align: top;\n",
              "    }\n",
              "\n",
              "    .dataframe thead th {\n",
              "        text-align: right;\n",
              "    }\n",
              "</style>\n",
              "<table border=\"1\" class=\"dataframe\">\n",
              "  <thead>\n",
              "    <tr style=\"text-align: right;\">\n",
              "      <th></th>\n",
              "      <th>Category</th>\n",
              "      <th>GO</th>\n",
              "      <th>p_fdr_bh</th>\n",
              "      <th>study_count</th>\n",
              "      <th>name</th>\n",
              "    </tr>\n",
              "  </thead>\n",
              "  <tbody>\n",
              "    <tr>\n",
              "      <th>0</th>\n",
              "      <td>BP</td>\n",
              "      <td>GO:0006958</td>\n",
              "      <td>2.319529e-16</td>\n",
              "      <td>16</td>\n",
              "      <td>complement activation, classical pathway</td>\n",
              "    </tr>\n",
              "    <tr>\n",
              "      <th>1</th>\n",
              "      <td>BP</td>\n",
              "      <td>GO:0006956</td>\n",
              "      <td>2.194926e-15</td>\n",
              "      <td>14</td>\n",
              "      <td>complement activation</td>\n",
              "    </tr>\n",
              "    <tr>\n",
              "      <th>2</th>\n",
              "      <td>BP</td>\n",
              "      <td>GO:0006957</td>\n",
              "      <td>4.483126e-13</td>\n",
              "      <td>11</td>\n",
              "      <td>complement activation, alternative pathway</td>\n",
              "    </tr>\n",
              "    <tr>\n",
              "      <th>3</th>\n",
              "      <td>BP</td>\n",
              "      <td>GO:0010951</td>\n",
              "      <td>6.736980e-11</td>\n",
              "      <td>15</td>\n",
              "      <td>negative regulation of endopeptidase activity</td>\n",
              "    </tr>\n",
              "    <tr>\n",
              "      <th>4</th>\n",
              "      <td>BP</td>\n",
              "      <td>GO:0006953</td>\n",
              "      <td>1.165086e-07</td>\n",
              "      <td>11</td>\n",
              "      <td>acute-phase response</td>\n",
              "    </tr>\n",
              "  </tbody>\n",
              "</table>\n",
              "</div>\n",
              "      <button class=\"colab-df-convert\" onclick=\"convertToInteractive('df-2bffba80-8ec6-4aca-96d2-937228da2162')\"\n",
              "              title=\"Convert this dataframe to an interactive table.\"\n",
              "              style=\"display:none;\">\n",
              "        \n",
              "  <svg xmlns=\"http://www.w3.org/2000/svg\" height=\"24px\"viewBox=\"0 0 24 24\"\n",
              "       width=\"24px\">\n",
              "    <path d=\"M0 0h24v24H0V0z\" fill=\"none\"/>\n",
              "    <path d=\"M18.56 5.44l.94 2.06.94-2.06 2.06-.94-2.06-.94-.94-2.06-.94 2.06-2.06.94zm-11 1L8.5 8.5l.94-2.06 2.06-.94-2.06-.94L8.5 2.5l-.94 2.06-2.06.94zm10 10l.94 2.06.94-2.06 2.06-.94-2.06-.94-.94-2.06-.94 2.06-2.06.94z\"/><path d=\"M17.41 7.96l-1.37-1.37c-.4-.4-.92-.59-1.43-.59-.52 0-1.04.2-1.43.59L10.3 9.45l-7.72 7.72c-.78.78-.78 2.05 0 2.83L4 21.41c.39.39.9.59 1.41.59.51 0 1.02-.2 1.41-.59l7.78-7.78 2.81-2.81c.8-.78.8-2.07 0-2.86zM5.41 20L4 18.59l7.72-7.72 1.47 1.35L5.41 20z\"/>\n",
              "  </svg>\n",
              "      </button>\n",
              "      \n",
              "  <style>\n",
              "    .colab-df-container {\n",
              "      display:flex;\n",
              "      flex-wrap:wrap;\n",
              "      gap: 12px;\n",
              "    }\n",
              "\n",
              "    .colab-df-convert {\n",
              "      background-color: #E8F0FE;\n",
              "      border: none;\n",
              "      border-radius: 50%;\n",
              "      cursor: pointer;\n",
              "      display: none;\n",
              "      fill: #1967D2;\n",
              "      height: 32px;\n",
              "      padding: 0 0 0 0;\n",
              "      width: 32px;\n",
              "    }\n",
              "\n",
              "    .colab-df-convert:hover {\n",
              "      background-color: #E2EBFA;\n",
              "      box-shadow: 0px 1px 2px rgba(60, 64, 67, 0.3), 0px 1px 3px 1px rgba(60, 64, 67, 0.15);\n",
              "      fill: #174EA6;\n",
              "    }\n",
              "\n",
              "    [theme=dark] .colab-df-convert {\n",
              "      background-color: #3B4455;\n",
              "      fill: #D2E3FC;\n",
              "    }\n",
              "\n",
              "    [theme=dark] .colab-df-convert:hover {\n",
              "      background-color: #434B5C;\n",
              "      box-shadow: 0px 1px 3px 1px rgba(0, 0, 0, 0.15);\n",
              "      filter: drop-shadow(0px 1px 2px rgba(0, 0, 0, 0.3));\n",
              "      fill: #FFFFFF;\n",
              "    }\n",
              "  </style>\n",
              "\n",
              "      <script>\n",
              "        const buttonEl =\n",
              "          document.querySelector('#df-2bffba80-8ec6-4aca-96d2-937228da2162 button.colab-df-convert');\n",
              "        buttonEl.style.display =\n",
              "          google.colab.kernel.accessAllowed ? 'block' : 'none';\n",
              "\n",
              "        async function convertToInteractive(key) {\n",
              "          const element = document.querySelector('#df-2bffba80-8ec6-4aca-96d2-937228da2162');\n",
              "          const dataTable =\n",
              "            await google.colab.kernel.invokeFunction('convertToInteractive',\n",
              "                                                     [key], {});\n",
              "          if (!dataTable) return;\n",
              "\n",
              "          const docLinkHtml = 'Like what you see? Visit the ' +\n",
              "            '<a target=\"_blank\" href=https://colab.research.google.com/notebooks/data_table.ipynb>data table notebook</a>'\n",
              "            + ' to learn more about interactive tables.';\n",
              "          element.innerHTML = '';\n",
              "          dataTable['output_type'] = 'display_data';\n",
              "          await google.colab.output.renderOutput(dataTable, element);\n",
              "          const docLink = document.createElement('div');\n",
              "          docLink.innerHTML = docLinkHtml;\n",
              "          element.appendChild(docLink);\n",
              "        }\n",
              "      </script>\n",
              "    </div>\n",
              "  </div>\n",
              "  "
            ]
          },
          "metadata": {},
          "execution_count": 178
        }
      ]
    },
    {
      "cell_type": "code",
      "source": [
        "df_goea_results.sort_values('p_fdr_bh', inplace=True, ascending=True)"
      ],
      "metadata": {
        "id": "6y685AWg-FzF"
      },
      "execution_count": 179,
      "outputs": []
    },
    {
      "cell_type": "code",
      "source": [
        "cg = sns.clustermap(-np.log10(df_goea_results[(df_goea_results.Category== 'BP') & (df_goea_results['p_fdr_bh'] < 0.001)]['p_fdr_bh']), yticklabels=df_goea_results[(df_goea_results.Category== 'BP')& (df_goea_results['p_fdr_bh'] < 0.001) ].name,\n",
        "              linewidths=.0, cmap=\"binary\",figsize=(3,10),\n",
        "              col_cluster = False, row_cluster = False, vmin = 0,\n",
        "                   cbar_kws={'label': '-log10(Adj-pValue)',\"orientation\": \"vertical\"})\n",
        "cg.fig.axes[-1].yaxis.label.set_size(8) #size legend colorbar\n",
        "cg.ax_cbar.set_position([-0.01, 0.7, cg.ax_row_dendrogram.get_position().width, 0.08])"
      ],
      "metadata": {
        "colab": {
          "base_uri": "https://localhost:8080/",
          "height": 885
        },
        "id": "Vw5pYsJs-F2F",
        "outputId": "2476f8e5-7ff8-4220-8fe1-c6e48334690d"
      },
      "execution_count": 181,
      "outputs": [
        {
          "output_type": "stream",
          "name": "stderr",
          "text": [
            "/usr/local/lib/python3.9/dist-packages/seaborn/matrix.py:1113: UserWarning: Tight layout not applied. The left and right margins cannot be made large enough to accommodate all axes decorations.\n",
            "  self._figure.tight_layout(**tight_params)\n"
          ]
        },
        {
          "output_type": "display_data",
          "data": {
            "text/plain": [
              "<Figure size 300x1000 with 4 Axes>"
            ],
            "image/png": "[encoded data removed]"
          },
          "metadata": {}
        }
      ]
    }
  ]
}